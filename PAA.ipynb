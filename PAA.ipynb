{
  "cells": [
    {
      "cell_type": "markdown",
      "metadata": {
        "id": "_yh0HFCMexk8"
      },
      "source": [
        "# Algoritmos de Ordenação\n",
        "\n",
        "**Alunos**: \n",
        "* Lindomar Rodrigues de Azevedo\n",
        "* Rafael Silva Tavares\n",
        "* Gabriel Tavares dos Santos\n",
        "* Izabela Caldeira Sena\n",
        "\n"
      ]
    },
    {
      "cell_type": "code",
      "execution_count": 16,
      "metadata": {
        "colab": {
          "base_uri": "https://localhost:8080/",
          "height": 398
        },
        "id": "xX18nrvo0vPj",
        "outputId": "d75170c9-40a5-48cc-c32b-be3fb430928f"
      },
      "outputs": [
        {
          "output_type": "stream",
          "name": "stdout",
          "text": [
            "Looking in indexes: https://pypi.org/simple, https://us-python.pkg.dev/colab-wheels/public/simple/\n",
            "Collecting matplotlib==3.1.3\n",
            "  Downloading matplotlib-3.1.3-cp37-cp37m-manylinux1_x86_64.whl (13.1 MB)\n",
            "\u001b[K     |████████████████████████████████| 13.1 MB 4.8 MB/s \n",
            "\u001b[?25hRequirement already satisfied: kiwisolver>=1.0.1 in /usr/local/lib/python3.7/dist-packages (from matplotlib==3.1.3) (1.4.4)\n",
            "Requirement already satisfied: numpy>=1.11 in /usr/local/lib/python3.7/dist-packages (from matplotlib==3.1.3) (1.21.6)\n",
            "Requirement already satisfied: python-dateutil>=2.1 in /usr/local/lib/python3.7/dist-packages (from matplotlib==3.1.3) (2.8.2)\n",
            "Requirement already satisfied: pyparsing!=2.0.4,!=2.1.2,!=2.1.6,>=2.0.1 in /usr/local/lib/python3.7/dist-packages (from matplotlib==3.1.3) (3.0.9)\n",
            "Requirement already satisfied: cycler>=0.10 in /usr/local/lib/python3.7/dist-packages (from matplotlib==3.1.3) (0.11.0)\n",
            "Requirement already satisfied: typing-extensions in /usr/local/lib/python3.7/dist-packages (from kiwisolver>=1.0.1->matplotlib==3.1.3) (4.1.1)\n",
            "Requirement already satisfied: six>=1.5 in /usr/local/lib/python3.7/dist-packages (from python-dateutil>=2.1->matplotlib==3.1.3) (1.15.0)\n",
            "Installing collected packages: matplotlib\n",
            "  Attempting uninstall: matplotlib\n",
            "    Found existing installation: matplotlib 3.5.3\n",
            "    Uninstalling matplotlib-3.5.3:\n",
            "      Successfully uninstalled matplotlib-3.5.3\n",
            "Successfully installed matplotlib-3.1.3\n"
          ]
        },
        {
          "output_type": "display_data",
          "data": {
            "application/vnd.colab-display-data+json": {
              "pip_warning": {
                "packages": [
                  "matplotlib",
                  "mpl_toolkits"
                ]
              }
            }
          },
          "metadata": {}
        }
      ],
      "source": [
        "!pip install matplotlib==3.1.3"
      ]
    },
    {
      "cell_type": "code",
      "execution_count": 6,
      "metadata": {
        "id": "KPkpcUHqZu0e"
      },
      "outputs": [],
      "source": [
        "import os\n",
        "import datetime\n",
        "import matplotlib.pyplot as plt\n",
        "import random\n",
        "import time"
      ]
    },
    {
      "cell_type": "markdown",
      "metadata": {
        "id": "rmuFDcjXkqGC"
      },
      "source": [
        "# Bubble Sort\n",
        "\n",
        "O Bubble Sort é um dos algoritmos de ordenação mais simples. Seu nome vem da maneira como o algoritmo funciona: a cada nova passagem, o maior elemento da lista “borbulha” em direção à sua posição correta.\n",
        "\n",
        "O Bubble Sort consiste em fazer várias passagens por uma lista, comparar os elementos um por um e trocar itens adjacentes que estão fora de ordem.\n",
        "\n",
        "- o método é estável\n",
        "- in place\n",
        "- um algoritmo de ordenação simples que precisa de O(n2) comparações para\n",
        "ordenar n itens\n",
        "é recomendado para conjuntos que estejam praticamente ordenados, pois o\n",
        "número de movimentações será baixo ou até mesmo zero (em caso do conjunto\n",
        "estar ordenado)\n",
        "não é recomendado para conjuntos grandes e muito desordenados, pois teríamos\n",
        "um grande número de movimentações.\n"
      ]
    },
    {
      "cell_type": "code",
      "execution_count": 7,
      "metadata": {
        "id": "AsgawWOZr6-e"
      },
      "outputs": [],
      "source": [
        "def bubble_sort(array):\n",
        "  inicio = datetime.datetime.now()\n",
        "  comparacoes = 0\n",
        "  trocas = 0\n",
        "\n",
        "\n",
        "  for i in range(len(array)):\n",
        "    for j in range(0, len(array) - i - 1):\n",
        "      comparacoes += 1\n",
        "      if array[j] > array[j + 1]:\n",
        "        trocas += 1\n",
        "        temp = array[j]\n",
        "        array[j] = array[j+1]\n",
        "        array[j+1] = temp\n",
        "  return (datetime.datetime.now()-inicio ).total_seconds(), comparacoes, trocas"
      ]
    },
    {
      "cell_type": "markdown",
      "metadata": {
        "id": "eCnOQL3-k-l1"
      },
      "source": [
        "# Insertion Sort\n",
        "\n",
        "Assim como a ordenação por bolha, o algoritmo de ordenação por inserção é simples de implementar e entender. Mas, ao contrário do bubble sort, ele constrói a lista ordenada um elemento de cada vez, comparando cada item com o resto da lista e inserindo-o em sua posição correta. Esse procedimento de “inserção” dá nome ao algoritmo.\n",
        "\n",
        "- O método é estavél\n",
        "- In place\n",
        "- O tempo de execução do algoritmo Insertion-Sort depende fundamentalmente\n",
        "da seqüência dos dados de entrada\n",
        "- Se os dados já estão em ordem, então o Insertion-Sort é executado, no\n",
        "melhor caso, em tempo O(n), se eles estão em ordem decrescente ele é\n",
        "executado, no pior caso, em tempo O(n^2)\n"
      ]
    },
    {
      "cell_type": "code",
      "execution_count": 8,
      "metadata": {
        "id": "q0f4BaNtk-N9"
      },
      "outputs": [],
      "source": [
        "def insertion_sort(array):\n",
        "  inicio = datetime.datetime.now()\n",
        "  trocas = 0\n",
        "\n",
        "  for i in range(1, len(array)):\n",
        "      key_item = array[i]\n",
        "      j = i - 1\n",
        "      \n",
        "      while j >= 0 and array[j] > key_item:\n",
        "          trocas += 1\n",
        "          array[j + 1] = array[j]\n",
        "          j -= 1\n",
        "      array[j + 1] = key_item\n",
        "  return (datetime.datetime.now()-inicio).total_seconds(), trocas"
      ]
    },
    {
      "cell_type": "markdown",
      "metadata": {
        "id": "v1BTcRBBrn8A"
      },
      "source": [
        "# Selection Sort\n",
        "\n",
        "Assim como o Bubble Sort, é necessário para cada item da lista percorrê-la toda, sendo necessário dois loops encadeados, ou seja, um para cada elemento da lista e outro para cada um desses elementos percorrerem a lista toda."
      ]
    },
    {
      "cell_type": "code",
      "execution_count": 9,
      "metadata": {
        "id": "ADHE3Zl9r0S4"
      },
      "outputs": [],
      "source": [
        "def selection_sort(array):\n",
        "    inicio = datetime.datetime.now()\n",
        "    cont = 0\n",
        "    cont2 = 0\n",
        "    for index in range(0, len(array)):\n",
        "        min_index = index\n",
        "\n",
        "        for right in range(index + 1, len(array)):\n",
        "            cont2 += 1\n",
        "            if array[right] < array[min_index]:\n",
        "                min_index = right\n",
        "                cont +=1\n",
        "\n",
        "        array[index], array[min_index] = array[min_index], array[index]\n",
        "\n",
        "    return ((datetime.datetime.now()-inicio).total_seconds(),cont, cont2)"
      ]
    },
    {
      "cell_type": "markdown",
      "metadata": {
        "id": "zJtXWMyqsD5l"
      },
      "source": [
        "# Merge Sort\n",
        "\n",
        "A partir da entrada de um vetor A de n números, é repetido o processo de divisão do vetor em duas metados até chegar o ponto em que teremos vários vetores de um elemento apenas. Após isso é feita a junção (merge) dos vetores, de incio ele combina todos os vetores de tamanho um, formando vetores de tamanho dois e assim por diante."
      ]
    },
    {
      "cell_type": "code",
      "execution_count": 10,
      "metadata": {
        "id": "xV8Vi_yOeT1I"
      },
      "outputs": [],
      "source": [
        "def merge(A, aux, esquerda, meio, direita, comparacao=0, trocas=0):\n",
        "    \"\"\"\n",
        "    Combina dois vetores ordenados em um único vetor (também ordenado).\n",
        "    \"\"\"\n",
        "    for k in range(esquerda, direita + 1):\n",
        "        aux[k] = A[k]\n",
        "        trocas+=1\n",
        "    i = esquerda\n",
        "    j = meio + 1\n",
        "    for k in range(esquerda, direita + 1):\n",
        "        if i > meio:\n",
        "            A[k] = aux[j]\n",
        "            j += 1\n",
        "            comparacao+=1\n",
        "            trocas+=1\n",
        "        elif j > direita:\n",
        "            A[k] = aux[i]\n",
        "            i += 1\n",
        "            comparacao+=2\n",
        "            trocas+=1\n",
        "        elif aux[j] < aux[i]:\n",
        "            A[k] = aux[j]\n",
        "            j += 1\n",
        "            comparacao+=3\n",
        "            trocas+=1\n",
        "        else:\n",
        "            A[k] = aux[i]\n",
        "            i += 1\n",
        "            comparacao+=3\n",
        "            trocas+=1\n",
        "    return(comparacao, trocas)\n",
        "\n",
        "\n",
        "def mergesort(A, aux, esquerda, direita, comparacao=0):\n",
        "    inicio = datetime.datetime.now()\n",
        "    troca = 0\n",
        "    if direita <= esquerda:\n",
        "        comparacao +=1\n",
        "        return\n",
        "    meio = (esquerda + direita) // 2\n",
        "\n",
        "    # Ordena a primeira metade do arranjo.\n",
        "    mergesort(A, aux, esquerda, meio, comparacao)\n",
        "\n",
        "    # Ordena a segunda metade do arranjo.\n",
        "    mergesort(A, aux, meio + 1, direita, comparacao)\n",
        "\n",
        "    # Combina as duas metades ordenadas anteriormente.\n",
        "    comparacao, trocas = merge(A, aux, esquerda, meio, direita, comparacao, troca)\n",
        "    return ((datetime.datetime.now()-inicio).total_seconds(),comparacao, trocas)"
      ]
    },
    {
      "cell_type": "markdown",
      "metadata": {
        "id": "9S-n7YSJlxt9"
      },
      "source": [
        "# Preparando dados a serem ordenados"
      ]
    },
    {
      "cell_type": "code",
      "execution_count": 11,
      "metadata": {
        "id": "jOIFlqH_l1Ss",
        "colab": {
          "base_uri": "https://localhost:8080/"
        },
        "outputId": "35192dcf-2f1e-4314-bb70-8ef085d34ab6"
      },
      "outputs": [
        {
          "output_type": "execute_result",
          "data": {
            "text/plain": [
              "[None, None, None, None, None, None, None]"
            ]
          },
          "metadata": {},
          "execution_count": 11
        }
      ],
      "source": [
        "data_crescente = [[i for i in range(0, qt)] for qt in [10,50,100,500,1000,5000,10000]]\n",
        "data_decrescente = [[i for i in range(qt, 0, -1)] for qt in [10,50,100,500,1000,5000,10000]]\n",
        "data_aleatorio = [x_.copy() for x_ in data_decrescente.copy()]\n",
        "\n",
        "[random.shuffle(data_aleatorio[i]) for i in range(len(data_aleatorio))]"
      ]
    },
    {
      "cell_type": "markdown",
      "metadata": {
        "id": "xhS4w_WMnOhZ"
      },
      "source": [
        "# Executando os algoritmos"
      ]
    },
    {
      "cell_type": "code",
      "execution_count": 12,
      "metadata": {
        "id": "veV0JD9rmvEk"
      },
      "outputs": [],
      "source": [
        "performance_bubble_crescente = []\n",
        "performance_bubble_decrescente = []\n",
        "performance_bubble_aleatorio = []\n",
        "\n",
        "performance_insertion_crescente = []\n",
        "performance_insertion_decrescente = []\n",
        "performance_insertion_aleatorio = []\n",
        "\n",
        "performance_merge_crescente = []\n",
        "performance_merge_decrescente = []\n",
        "performance_merge_aleatorio = []\n",
        "\n",
        "\n",
        "performance_selection_crescente = []\n",
        "performance_selection_decrescente = []\n",
        "performance_selection_aleatorio = []\n",
        "\n",
        "for i in range(len(data_crescente)):\n",
        "  performance_bubble_crescente.append([len(data_crescente[i]), *bubble_sort(data_crescente[i].copy())])\n",
        "  performance_bubble_decrescente.append([len(data_crescente[i]), *bubble_sort(data_decrescente[i].copy())])\n",
        "  performance_bubble_aleatorio.append([len(data_crescente[i]), *bubble_sort(data_aleatorio[i].copy())])\n",
        "\n",
        "  performance_insertion_crescente.append([len(data_crescente[i]), *insertion_sort(data_crescente[i].copy())])\n",
        "  performance_insertion_decrescente.append([len(data_crescente[i]), *insertion_sort(data_decrescente[i].copy())])\n",
        "  performance_insertion_aleatorio.append([len(data_crescente[i]), *insertion_sort(data_aleatorio[i].copy())])\n",
        "\n",
        "  performance_selection_crescente.append([len(data_crescente[i]), *selection_sort(data_crescente[i].copy())])\n",
        "  performance_selection_decrescente.append([len(data_crescente[i]), *selection_sort(data_decrescente[i].copy())])\n",
        "  performance_selection_aleatorio.append([len(data_crescente[i]), *selection_sort(data_aleatorio[i].copy())])\n",
        "\n",
        "  aux1=[0]*len(data_crescente[i])\n",
        "  aux2=[0]*len(data_crescente[i])\n",
        "  aux3=[0]*len(data_crescente[i])\n",
        "\n",
        "  performance_merge_crescente.append([len(data_crescente[i]), *mergesort(data_crescente[i].copy(),aux1,0,len(data_crescente[i])-1)])\n",
        "  performance_merge_decrescente.append([len(data_crescente[i]), *mergesort(data_decrescente[i].copy(),aux2,0,len(data_crescente[i])-1)])\n",
        "  performance_merge_aleatorio.append([len(data_crescente[i]), *mergesort(data_aleatorio[i].copy(),aux3,0,len(data_crescente[i])-1)])"
      ]
    },
    {
      "cell_type": "markdown",
      "metadata": {
        "id": "hMmojhMvyfiA"
      },
      "source": [
        "# Resultados\n",
        "\n",
        "## Tempo de execução"
      ]
    },
    {
      "cell_type": "code",
      "execution_count": 17,
      "metadata": {
        "id": "oaoszu5w5Fwv",
        "colab": {
          "base_uri": "https://localhost:8080/",
          "height": 686
        },
        "outputId": "16b4bc12-ed73-4f68-9e75-ae22ce10d1ab"
      },
      "outputs": [
        {
          "output_type": "display_data",
          "data": {
            "text/plain": [
              "<Figure size 1080x720 with 4 Axes>"
            ],
            "image/png": "[encoded data removed]"
          },
          "metadata": {
            "needs_background": "light"
          }
        }
      ],
      "source": [
        "fig, axs = plt.subplots(2, 2, figsize=(15, 10))\n",
        "fig.tight_layout(pad=5.0)\n",
        "\n",
        "fig.suptitle('Tempo de execução')\n",
        "\n",
        "axs[0,0].plot([a[0] for a in performance_bubble_crescente], [a[1] for a in performance_bubble_crescente], label=\"crescente\")\n",
        "axs[0,0].plot([a[0] for a in performance_bubble_decrescente], [a[1] for a in performance_bubble_decrescente], label=\"decrescente\")\n",
        "axs[0,0].plot([a[0] for a in performance_bubble_aleatorio], [a[1] for a in performance_bubble_aleatorio], label=\"aleatório\")\n",
        "\n",
        "axs[0,0].set_title('Bubble Sort')\n",
        "axs[0,0].legend()\n",
        "\n",
        "axs[0,1].plot([a[0] for a in performance_insertion_crescente], [a[1] for a in performance_insertion_crescente], label=\"crescente\")\n",
        "axs[0,1].plot([a[0] for a in performance_insertion_decrescente], [a[1] for a in performance_insertion_decrescente], label=\"decrescente\")\n",
        "axs[0,1].plot([a[0] for a in performance_insertion_aleatorio], [a[1] for a in performance_insertion_aleatorio], label=\"aleatório\")\n",
        "\n",
        "axs[0,1].set_title('Insertion Sort')\n",
        "axs[0,1].legend()\n",
        "\n",
        "axs[1,0].plot([a[0] for a in performance_selection_crescente], [a[1] for a in performance_selection_crescente], label=\"crescente\")\n",
        "axs[1,0].plot([a[0] for a in performance_selection_decrescente], [a[1] for a in performance_selection_decrescente], label=\"decrescente\")\n",
        "axs[1,0].plot([a[0] for a in performance_selection_aleatorio], [a[1] for a in performance_selection_aleatorio], label=\"aleatório\")\n",
        "\n",
        "axs[1,0].set_title('Selection Sort')\n",
        "axs[1,0].legend()\n",
        "\n",
        "axs[1,1].plot([a[0] for a in performance_merge_crescente], [a[1] for a in performance_merge_crescente], label=\"crescente\")\n",
        "axs[1,1].plot([a[0] for a in performance_merge_decrescente], [a[1] for a in performance_merge_decrescente], label=\"decrescente\")\n",
        "axs[1,1].plot([a[0] for a in performance_merge_aleatorio], [a[1] for a in performance_merge_aleatorio], label=\"aleatório\")\n",
        "\n",
        "axs[1,1].set_title('Merge Sort')\n",
        "axs[1,1].legend()\n",
        "\n",
        "fig.show()"
      ]
    },
    {
      "cell_type": "markdown",
      "metadata": {
        "id": "WDr2csuN58uf"
      },
      "source": [
        "## Quantidade de comparações"
      ]
    },
    {
      "cell_type": "code",
      "execution_count": null,
      "metadata": {
        "id": "kmC57Xro549U"
      },
      "outputs": [],
      "source": [
        "fig, axs = plt.subplots(2, 2, figsize=(15, 10))\n",
        "fig.tight_layout(pad=5.0)\n",
        "\n",
        "fig.suptitle('Quantidade de comparações')\n",
        "\n",
        "axs[0,0].plot([a[0] for a in performance_bubble_crescente], [a[2] for a in performance_bubble_crescente], label=\"crescente\")\n",
        "axs[0,0].plot([a[0] for a in performance_bubble_decrescente], [a[2] for a in performance_bubble_decrescente], label=\"decrescente\")\n",
        "axs[0,0].plot([a[0] for a in performance_bubble_aleatorio], [a[2] for a in performance_bubble_aleatorio], label=\"aleatório\")\n",
        "\n",
        "axs[0,0].set_title('Bubble Sort')\n",
        "axs[0,0].legend()\n",
        "\n",
        "axs[0,1].plot([a[0] for a in performance_selection_crescente], [a[2] for a in performance_selection_crescente], label=\"crescente\")\n",
        "axs[0,1].plot([a[0] for a in performance_selection_decrescente], [a[2] for a in performance_selection_decrescente], label=\"decrescente\")\n",
        "axs[0,1].plot([a[0] for a in performance_selection_aleatorio], [a[2] for a in performance_selection_aleatorio], label=\"aleatório\")\n",
        "\n",
        "axs[0,1].set_title('Selection Sort')\n",
        "axs[0,1].legend()\n",
        "\n",
        "axs[1,0].plot([a[0] for a in performance_insertion_crescente], [a[2] for a in performance_insertion_crescente], label=\"crescente\")\n",
        "axs[1,0].plot([a[0] for a in performance_insertion_decrescente], [a[2] for a in performance_insertion_decrescente], label=\"decrescente\")\n",
        "axs[1,0].plot([a[0] for a in performance_insertion_aleatorio], [a[2] for a in performance_insertion_aleatorio], label=\"aleatório\")\n",
        "\n",
        "axs[1,0].set_title('Insertion Sort')\n",
        "axs[1,0].legend()\n",
        "\n",
        "axs[1,1].plot([a[0] for a in performance_merge_crescente], [a[2] for a in performance_merge_crescente], label=\"crescente\")\n",
        "axs[1,1].plot([a[0] for a in performance_merge_decrescente], [a[2] for a in performance_merge_decrescente], label=\"decrescente\")\n",
        "axs[1,1].plot([a[0] for a in performance_merge_aleatorio], [a[2] for a in performance_merge_aleatorio], label=\"aleatório\")\n",
        "\n",
        "axs[1,1].set_title('Merge Sort')\n",
        "axs[1,1].legend()\n",
        "\n",
        "\n",
        "\n",
        "fig.show()"
      ]
    },
    {
      "cell_type": "markdown",
      "metadata": {
        "id": "33yFrO3F6MyI"
      },
      "source": [
        "## Quantidade de trocas"
      ]
    },
    {
      "cell_type": "code",
      "execution_count": 18,
      "metadata": {
        "colab": {
          "base_uri": "https://localhost:8080/",
          "height": 686
        },
        "id": "aUxt9zJJ6D33",
        "outputId": "c2a68268-3221-4056-c1c1-37f7b8268664"
      },
      "outputs": [
        {
          "output_type": "display_data",
          "data": {
            "text/plain": [
              "<Figure size 1080x720 with 4 Axes>"
            ],
            "image/png": "[encoded data removed]"
          },
          "metadata": {
            "needs_background": "light"
          }
        }
      ],
      "source": [
        "fig, axs = plt.subplots(2, 2, figsize=(15, 10))\n",
        "fig.tight_layout(pad=5.0)\n",
        "\n",
        "fig.suptitle('Quantidade de trocas')\n",
        "\n",
        "axs[0,0].plot([a[0] for a in performance_bubble_crescente], [a[3] for a in performance_bubble_crescente], label=\"crescente\")\n",
        "axs[0,0].plot([a[0] for a in performance_bubble_decrescente], [a[3] for a in performance_bubble_decrescente], label=\"decrescente\")\n",
        "axs[0,0].plot([a[0] for a in performance_bubble_aleatorio], [a[3] for a in performance_bubble_aleatorio], label=\"aleatório\")\n",
        "\n",
        "axs[0,0].set_title('Bubble Sort')\n",
        "axs[0,0].legend()\n",
        "\n",
        "axs[0,1].plot([a[0] for a in performance_selection_crescente], [a[3] for a in performance_selection_crescente], label=\"crescente\")\n",
        "axs[0,1].plot([a[0] for a in performance_selection_decrescente], [a[3] for a in performance_selection_decrescente], label=\"decrescente\")\n",
        "axs[0,1].plot([a[0] for a in performance_selection_aleatorio], [a[3] for a in performance_selection_aleatorio], label=\"aleatório\")\n",
        "\n",
        "axs[0,1].set_title('Selection Sort')\n",
        "axs[0,1].legend()\n",
        "\n",
        "axs[1,0].plot([a[0] for a in performance_insertion_crescente], [a[1] for a in performance_insertion_crescente], label=\"crescente\")\n",
        "axs[1,0].plot([a[0] for a in performance_insertion_decrescente], [a[1] for a in performance_insertion_decrescente], label=\"decrescente\")\n",
        "axs[1,0].plot([a[0] for a in performance_insertion_aleatorio], [a[1] for a in performance_insertion_aleatorio], label=\"aleatório\")\n",
        "\n",
        "axs[1,0].set_title('Insertion Sort')\n",
        "axs[1,0].legend()\n",
        "\n",
        "axs[1,1].plot([a[0] for a in performance_merge_crescente], [a[3] for a in performance_merge_crescente], label=\"crescente\")\n",
        "axs[1,1].plot([a[0] for a in performance_merge_decrescente], [a[3] for a in performance_merge_decrescente], label=\"decrescente\")\n",
        "axs[1,1].plot([a[0] for a in performance_merge_aleatorio], [a[3] for a in performance_merge_aleatorio], label=\"aleatório\")\n",
        "\n",
        "axs[1,1].set_title('Merge Sort')\n",
        "axs[1,1].legend()\n",
        "\n",
        "fig.show()"
      ]
    },
    {
      "cell_type": "markdown",
      "metadata": {
        "id": "TXfO9uzWwye_"
      },
      "source": [
        "# CountingSort"
      ]
    },
    {
      "cell_type": "markdown",
      "metadata": {
        "id": "numMas63wGk7"
      },
      "source": [
        "O Counting Sort baseia-se na ideia de que um valor inteiro pode ser mapeado para o índice de mesmo valor em um array auxiliar. Essa estratégia nos impede, em um primeiro momento, de ordenar uma sequência com números negativos, pois o menor índice em um array é 0.\n",
        "\n",
        "### Como funciona\n",
        "\n",
        "A ideia é simples: basta identificarmos o menor elemento do array (menor) e usar esse valor como um “salto” para adicionar os elementos. É uma ideia similar a fazer um shift para a direita em todos os elementos."
      ]
    },
    {
      "cell_type": "markdown",
      "metadata": {
        "id": "IZ7a0UJLwxU1"
      },
      "source": [
        "###Algoritmo gerador de entradas"
      ]
    },
    {
      "cell_type": "code",
      "execution_count": null,
      "metadata": {
        "id": "5J9gsI5swoTj"
      },
      "outputs": [],
      "source": [
        "import math\n",
        "import random\n",
        "import copy\n",
        "\n",
        "for i in [1000,10000,100000,1000000]:\n",
        "    data_crescente = [q for q in range(0,i)]\n",
        "    data_decrescente = [q for q in range(i, 0, -1)]\n",
        "    data_aleatorio = copy.deepcopy(data_decrescente)\n",
        "    [random.shuffle(data_aleatorio)]\n",
        "\n",
        "    rcresc = open(f'arquivos/{i}-cresc.txt',\"w\")\n",
        "    for n in data_crescente:\n",
        "        rcresc.write(f'{n}\\n')\n",
        "    rcresc.close()\n",
        "\n",
        "    rdecresc = open(f'arquivos/{i}-decresc.txt',\"w\")\n",
        "    for n in data_decrescente:\n",
        "        rdecresc.write(f'{n}\\n')\n",
        "    rdecresc.close()\n",
        "\n",
        "    ralea = open(f'arquivos/{i}-aleat.txt',\"w\")\n",
        "    for n in data_aleatorio:\n",
        "        ralea.write(f'{n}\\n')\n",
        "    ralea.close()"
      ]
    },
    {
      "cell_type": "markdown",
      "metadata": {
        "id": "JAm2ilymxE_b"
      },
      "source": [
        "Counting Sort"
      ]
    },
    {
      "cell_type": "code",
      "execution_count": null,
      "metadata": {
        "id": "Qf7WKNBpxBtt"
      },
      "outputs": [],
      "source": [
        "# Implementação do Counting Sort\n",
        "\n",
        "def countingSort(array):\n",
        "    size = len(array)\n",
        "    output = [0] * size\n",
        "    global increment\n",
        "    global comparate\n",
        "\n",
        "    # Inicializa o array de contagem\n",
        "    maior = 0\n",
        "    for i in range(0,size):\n",
        "        if array[i] > maior:\n",
        "            comparate += 1\n",
        "            maior = array[i]\n",
        "\n",
        "    count = [0] * (maior+1)\n",
        "\n",
        "    # Incrementa um contador para cada elemento no array de contagem\n",
        "    for i in range(0, size):\n",
        "        count[array[i]] += 1\n",
        "        increment += 1\n",
        "\n",
        "\n",
        "    # Armazena o contador acumulado\n",
        "    for i in range(1, maior+1):\n",
        "        count[i] += count[i - 1]\n",
        "        increment += 1\n",
        "\n",
        "    # Encontra o índice de cada elemento do array original no array de contagem\n",
        "    # Coloca os elementos no array de saída\n",
        "    i = size - 1\n",
        "    while i >= 0:\n",
        "        output[count[array[i]] - 1] = array[i]\n",
        "        count[array[i]] -= 1\n",
        "        i -= 1\n",
        "        increment += 1\n",
        "\n",
        "    # Copia os elementos ordenados no array original\n",
        "    for i in range(0, size):\n",
        "        array[i] = output[i]\n",
        "\n",
        "    return output\n",
        "\n",
        "\n",
        "import time\n",
        "\n",
        "qt = 1000\n",
        "open('arquivos/CountingCresc.txt','w')\n",
        "open('arquivos/CountingDecresc.txt','w')\n",
        "open('arquivos/CountingAleat.txt','w')\n",
        "while qt <= 1000000:\n",
        "\n",
        "    # Relatorio Crescente\n",
        "    data_cresc = [int(a) for a in open(f'arquivos/{qt}-cresc.txt').read().split('\\n') if a != '']\n",
        " \n",
        "    inicio = time.time()\n",
        "    increment = 0\n",
        "    comparate = 0\n",
        "\n",
        "    size = len(data_cresc)\n",
        "\n",
        "    countingSort(data_cresc)\n",
        "    tempo = round((time.time() - inicio), 3)\n",
        "    open(f'arquivos/CountingCresc.txt','a').write(f\"{qt} valores: Tempo= {tempo} Incrementacoes= {increment} Comparacoes= {comparate}\\n\")\n",
        "\n",
        "    # Relatorio Decrescente\n",
        "    data_decresc = [int(a) for a in open(f'arquivos/{qt}-decresc.txt').read().split('\\n') if a != '']\n",
        " \n",
        "    inicio = time.time()\n",
        "    increment = 0\n",
        "    comparate = 0\n",
        "\n",
        "    size = len(data_decresc)\n",
        "\n",
        "    countingSort(data_decresc)\n",
        "    tempo = round((time.time() - inicio), 3)\n",
        "    open(f'arquivos/CountingDecresc.txt','a').write(f\"{qt} valores: Tempo= {tempo} Incrementacoes= {increment} Comparacoes= {comparate}\\n\")\n",
        "\n",
        "    # Relatorio Aleatorio\n",
        "    data_aleat = [int(a) for a in open(f'arquivos/{qt}-aleat.txt').read().split('\\n') if a != '']\n",
        " \n",
        "    inicio = time.time()\n",
        "    increment = 0\n",
        "    comparate = 0\n",
        "\n",
        "    size = len(data_aleat)\n",
        "\n",
        "    countingSort(data_aleat)\n",
        "    tempo = round((time.time() - inicio), 3)\n",
        "    open(f'arquivos/CountingAleat.txt','a').write(f\"{qt} valores: Tempo= {tempo} Incrementacoes= {increment} Comparacoes= {comparate}\\n\")\n",
        "    qt *= 10\n"
      ]
    },
    {
      "cell_type": "markdown",
      "metadata": {
        "id": "Y8No6K4-xYEZ"
      },
      "source": [
        "#Resultados"
      ]
    },
    {
      "cell_type": "markdown",
      "metadata": {
        "id": "Ygbu-on0xoDP"
      },
      "source": [
        "##  Dados de entrada em ordem crescente\n",
        "\n",
        "### Tempo de execução\n",
        "\n",
        "Quantidade de entrada | Tempo de execução\n",
        "----------------------|-------------------\n",
        "Até 1.000             |± 0.001 Frs\n",
        "Até 10.000            |± 0.005 Frs\n",
        "Até 100.000            |± 0.045 Frs\n",
        "Até 1.000.000         |± 0.554 Frs\n",
        "\n",
        "[Tempo Crescente](https://imgur.com/FrjC8nt)\n",
        "\n",
        "### Incrementações\n",
        "\n",
        "Quantidade de entrada | Incrementações\n",
        "----------------------|-------------------\n",
        "Até 1.000             |± 2999\n",
        "Até 10.000            |± 29999\n",
        "Até 100.000            |± 299999\n",
        "Até 1.000.000         |± 2999999\n",
        "\n",
        "[Incrementações Crescente](https://imgur.com/fuwsd1V)\n",
        "\n",
        "##  Dados de entrada em ordem decrescente\n",
        "\n",
        "### Tempo de execução\n",
        "\n",
        "Quantidade de entrada | Tempo de execução\n",
        "----------------------|-------------------\n",
        "Até 1.000             |± 0.001 Frs\n",
        "Até 10.000            |± 0.005 Frs\n",
        "Até 100.000            |± 0.052 Frs\n",
        "Até 1.000.000         |± 0.484 Frs\n",
        "\n",
        "[Tempo Decrescente](https://imgur.com/1Ir7MV5)\n",
        "\n",
        "### Incrementações\n",
        "\n",
        "Quantidade de entrada | Incrementações\n",
        "----------------------|-------------------\n",
        "Até 1.000             |± 3000\n",
        "Até 10.000            |± 30000\n",
        "Até 100.000            |± 300000\n",
        "Até 1.000.000         |± 3000000\n",
        "\n",
        "[Incrementações Decrescente](https://imgur.com/cZFRw9Y)\n",
        "\n",
        "##  Dados de entrada em ordem aleatória\n",
        "\n",
        "### Tempo de execução\n",
        "\n",
        "Quantidade de entrada | Tempo de execução\n",
        "----------------------|-------------------\n",
        "Até 1.000             |± 0.001 Frs\n",
        "Até 10.000            |± 0.004 Frs\n",
        "Até 100.000            |± 0.067 Frs\n",
        "Até 1.000.000         |± 1.11 Frs\n",
        "\n",
        "[Tempo Aleatória](https://imgur.com/W3lIijO)\n",
        "\n",
        "### Incrementações\n",
        "\n",
        "Quantidade de entrada | Incrementações\n",
        "----------------------|-------------------\n",
        "Até 1.000             |± 3000\n",
        "Até 10.000            |± 30000\n",
        "Até 100.000            |± 300000\n",
        "Até 1.000.000         |± 3000000\n",
        "\n",
        "[Incrementações Aleatória](https://imgur.com/OdXUeFC)\n",
        "\n"
      ]
    },
    {
      "cell_type": "markdown",
      "metadata": {
        "id": "kSmNDKsYDL0M"
      },
      "source": [
        "#Quick Sort\n",
        "\n",
        "O quick sort utiliza a estratégia de dividir para conquistar para obter as mesmas vantagens do merge sort, mas sem usar espaço adicional. Em compensação, é possível que a lista possa não ser dividida ao meio. Quando isso ocorre, veremos que seu desempenho é reduzido."
      ]
    },
    {
      "cell_type": "code",
      "execution_count": null,
      "metadata": {
        "id": "LaWohELADRqq"
      },
      "outputs": [],
      "source": [
        "def partition(array, low, high):\n",
        "  pivot = array[high]\n",
        "\n",
        "  i = low - 1\n",
        "\n",
        "  for j in range(low, high):\n",
        "    if array[j] <= pivot:\n",
        "      i = i + 1\n",
        "\n",
        "      (array[i], array[j]) = (array[j], array[i])\n",
        "\n",
        "  (array[i + 1], array[high]) = (array[high], array[i + 1])\n",
        "\n",
        "  return i + 1\n",
        "\n",
        "def quickSort(array, low, high):\n",
        "  inicio = datetime.datetime.now()\n",
        "  if low < high:\n",
        "\n",
        "    pi = partition(array, low, high)\n",
        "\n",
        "    quickSort(array, low, pi - 1)\n",
        "\n",
        "    quickSort(array, pi + 1, high)\n",
        "  return (datetime.datetime.now()-inicio).total_seconds()"
      ]
    },
    {
      "cell_type": "code",
      "execution_count": null,
      "metadata": {
        "id": "mpK-ZAF1Dqfk"
      },
      "outputs": [],
      "source": [
        "performance_quick_crescente = []\n",
        "performance_quick_decrescente = []\n",
        "performance_quick_aleatorio = []\n",
        "\n",
        "for i in range(len(data_crescente[:4])):\n",
        "  performance_quick_crescente.append([len(data_crescente[i]), quickSort(data_crescente[i].copy(), 0, len(data_crescente[i])-1)])\n",
        "  performance_quick_decrescente.append([len(data_crescente[i]), quickSort(data_decrescente[i].copy(), 0, len(data_decrescente[i])-1)])\n",
        "  performance_quick_aleatorio.append([len(data_crescente[i]), quickSort(data_aleatorio[i].copy(), 0, len(data_aleatorio[i])-1)])"
      ]
    },
    {
      "cell_type": "code",
      "execution_count": null,
      "metadata": {
        "colab": {
          "base_uri": "https://localhost:8080/",
          "height": 281
        },
        "id": "EOSzlI0hFNJC",
        "outputId": "45f1c7b6-a867-4118-ac12-f5457c73ed3c"
      },
      "outputs": [
        {
          "data": {
            "image/png": "[encoded data removed]",
            "text/plain": [
              "<Figure size 432x288 with 1 Axes>"
            ]
          },
          "metadata": {},
          "output_type": "display_data"
        }
      ],
      "source": [
        "plt.plot([a[0] for a in performance_quick_crescente], [a[1] for a in performance_quick_crescente], label=\"crescente\")\n",
        "plt.plot([a[0] for a in performance_quick_decrescente], [a[1] for a in performance_quick_decrescente], label=\"decrescente\")\n",
        "plt.plot([a[0] for a in performance_quick_aleatorio], [a[1] for a in performance_quick_aleatorio], label=\"aleatório\")\n",
        "\n",
        "plt.title('Tempo de Execução: Quick Sort')\n",
        "plt.legend()\n",
        "\n",
        "\n",
        "plt.show()"
      ]
    },
    {
      "cell_type": "code",
      "execution_count": null,
      "metadata": {
        "id": "RfP1wo9ZOsDU"
      },
      "outputs": [],
      "source": []
    },
    {
      "cell_type": "markdown",
      "metadata": {
        "id": "w6NQ5DNS3wXS"
      },
      "source": [
        "# RadixSort\n",
        "\n",
        "O Radix sort é um algoritmo de ordenação rápido e estável que pode ser usado para ordenar itens que estão identificados por chaves únicas. Cada chave é uma cadeia de caracteres ou número, e o radix sort ordena estas chaves em qualquer ordem relacionada com a lexicografia.\n",
        "\n",
        "## Como funciona\n",
        "\n",
        "Quebrar uma chave em vários pedaços, que vão ser dígitos de um número em uma dada base (radix). Ordenar de acordo com o primeiro pedaço, números cujo dígito mais à esquerda começa com 0 vêm antes de números cujo dígito mais à esquerda é 1."
      ]
    },
    {
      "cell_type": "code",
      "execution_count": null,
      "metadata": {
        "id": "HeelIxOq4AqA"
      },
      "outputs": [],
      "source": [
        "def radixSort(array):\n",
        "\n",
        "    max_element = max(array)\n",
        "\n",
        "    place = 1\n",
        "    while max_element // place > 0:\n",
        "        countingSort(array, place)\n",
        "        place *= 10\n",
        "\n",
        "def countingSort(array, place):\n",
        "    size = len(array)\n",
        "    output = [0] * size\n",
        "    count = [0] * 10\n",
        "\n",
        "    for i in range(0, size):\n",
        "        index = array[i] // place\n",
        "        count[index % 10] += 1\n",
        "\n",
        "    for i in range(1, 10):\n",
        "        count[i] += count[i - 1]\n",
        "\n",
        "    i = size - 1\n",
        "    while i >= 0:\n",
        "        index = array[i] // place\n",
        "        output[count[index % 10] - 1] = array[i]\n",
        "        count[index % 10] -= 1\n",
        "        i -= 1\n",
        "\n",
        "    for i in range(0, size):\n",
        "        array[i] = output[i]"
      ]
    },
    {
      "cell_type": "markdown",
      "metadata": {
        "id": "uiJp-wN_Cb7O"
      },
      "source": [
        "## Tempo de execução com dados de entrada em ordem crescente\n",
        "\n",
        "Quantidade de entrada | Tempo de execução\n",
        "----------------------|-------------------\n",
        "Até 10                |± 0.00002 Frs\n",
        "Até 100               |± 0.00026 Frs\n",
        "Até 1.000             |± 0.00174 Frs\n",
        "Até 10.000            |± 0.07989 Frs\n",
        "Até 20.000            |± 0.08041 Frs\n",
        "Até 50.000            |± 0.15332 Frs\n",
        "Até 100.000           |± 0.37807 Frs\n",
        "Até 500.000           |± 1.57294 Frs\n",
        "Até 1.000.000         |± 3.65740 Frs\n",
        "Até 8.000.000         |± 33.13594 Frs\n",
        "\n",
        "![crescente](https://i.imgur.com/phWEadS.png)\n",
        "\n",
        "## Tempo de execução com dados de entrada em ordem decrescente\n",
        "\n",
        "Quantidade de entrada | Tempo de execução\n",
        "----------------------|-------------------\n",
        "Até 10                |± 0.00003 Frs\n",
        "Até 100               |± 0.00020 Frs\n",
        "Até 1.000             |± 0.00190 Frs\n",
        "Até 10.000            |± 0.04310 Frs\n",
        "Até 20.000            |± 0.08288 Frs\n",
        "Até 50.000            |± 0.17437 Frs\n",
        "Até 100.000           |± 0.36945 Frs\n",
        "Até 500.000           |± 1.64176 Frs\n",
        "Até 1.000.000         |± 3.97745 Frs\n",
        "Até 8.000.000         |± 28.20224 Frs\n",
        "\n",
        "![decrescente](https://i.imgur.com/wti7vrK.png)\n",
        "\n",
        "\n",
        "## Tempo de execução com dados de entrada em ordem aleatória\n",
        "\n",
        "Quantidade de entrada | Tempo de execução\n",
        "----------------------|-------------------\n",
        "Até 10                |± 0.00002 Frs\n",
        "Até 100               |± 0.00016 Frs\n",
        "Até 1.000             |± 0.00177 Frs\n",
        "Até 10.000            |± 0.04471 Frs\n",
        "Até 20.000            |± 0.08281 Frs\n",
        "Até 50.000            |± 0.20767 Frs\n",
        "Até 100.000           |± 0.41240 Frs\n",
        "Até 500.000           |± 0.43782 Frs\n",
        "Até 1.000.000         |± 4.85507 Frs\n",
        "Até 8.000.000         |± 41.69580 Frs\n",
        "\n",
        "![aleatorio](https://i.imgur.com/VHqw1Zq.png)\n",
        "\n",
        "## Comparaçao de tempo de execução entre os 3 tipos de entrada\n",
        "\n",
        "![grafico](https://i.imgur.com/5wrkdOb.png)"
      ]
    },
    {
      "cell_type": "markdown",
      "metadata": {
        "id": "-eYo--tX_7s6"
      },
      "source": [
        "# Heapsort\n",
        "\n",
        "O algoritmo heapsort é um algoritmo de ordenação generalista, e faz parte da família de algoritmos de ordenação por seleção.\n",
        "\n",
        "## Como funciona\n",
        "\n",
        "Selecione o maior (ou menor) item do vetor e a seguir troque-o com o item que está na Heapsort a seguir troque-o com o item que está na última (ou primeira) posição do vetor; repita estas duas operações com os n - 1 itens restantes; depois com os n - 2 itens; e assim sucessivamente."
      ]
    },
    {
      "cell_type": "code",
      "execution_count": null,
      "metadata": {
        "id": "fcDcXrhyAlhu"
      },
      "outputs": [],
      "source": [
        "def heapSort(arr):\n",
        "    n = len(arr)\n",
        "  \n",
        "    for i in range(n//2, -1, -1):\n",
        "      heapify(arr, n, i)\n",
        "  \n",
        "    for i in range(n-1, 0, -1):\n",
        "        arr[i], arr[0] = arr[0], arr[i]\n",
        "  \n",
        "        heapify(arr, i, 0)\n",
        "\n",
        "def heapify(arr, n, i):\n",
        "      largest = i\n",
        "      l = 2 * i + 1\n",
        "      r = 2 * i + 2\n",
        "  \n",
        "      if l < n and arr[i] < arr[l]:\n",
        "          largest = l\n",
        "  \n",
        "      if r < n and arr[largest] < arr[r]:\n",
        "          largest = r\n",
        "  \n",
        "      if largest != i:\n",
        "          arr[i], arr[largest] = arr[largest], arr[i]\n",
        "          heapify(arr, n, largest)"
      ]
    },
    {
      "cell_type": "markdown",
      "metadata": {
        "id": "5PJ-_uAjZAoV"
      },
      "source": [
        "##  Dados de entrada em ordem crescente\n",
        "\n",
        "## Tempo de execução\n",
        "\n",
        "Quantidade de entrada | Tempo de execução\n",
        "----------------------|-------------------\n",
        "Até 10                |± 0.00006 Frs\n",
        "Até 100               |± 0.00076 Frs\n",
        "Até 1.000             |± 0.00815 Frs\n",
        "Até 10.000            |± 0.14023 Frs\n",
        "Até 20.000            |± 0.42120 Frs\n",
        "Até 50.000            |± 0.65709 Frs\n",
        "Até 100.000           |± 1.24862 Frs\n",
        "Até 500.000           |± 5.52888 Frs\n",
        "Até 1.000.000         |± 11.56309 Frs\n",
        "Até 8.000.000         |± 107.95581 Frs\n",
        "\n",
        "![crescente](https://i.imgur.com/HnjtT1s.png)\n",
        "\n",
        "## Trocas e comparações\n",
        "\n",
        "Quantidade de entrada | Trocas          | Comparações\n",
        "----------------------|-----------------|---------------\n",
        "Até 10                |   58            | 104\n",
        "Até 100               |   908           | 1920\n",
        "Até 1.000             |   10.876         | 24.234\n",
        "Até 10.000            |   236.934        | 548.425\n",
        "Até 20.000            |   720.562        | 1.674.793\n",
        "Até 50.000            |   1.755.054       | 4.097.049\n",
        "Até 100.000           |   3.961.564       | 9.278.765\n",
        "Até 500.000           |   13.796.262      | 32.562.901\n",
        "Até 1.000.000         |   34.600.146      | 81.951.250\n",
        "Até 8.000.000         |   226.349.772     | 540.144.989\n",
        "\n",
        "![trocasComp](https://i.imgur.com/ucR10JP.png)\n",
        "\n",
        "## Dados de entrada em ordem decrescente\n",
        "\n",
        "## Tempo de execução\n",
        "\n",
        "Quantidade de entrada | Tempo de execução\n",
        "----------------------|-------------------\n",
        "Até 10                |± 0.00010 Frs\n",
        "Até 100               |± 0.00130 Frs\n",
        "Até 1.000             |± 0.01604 Frs\n",
        "Até 10.000            |± 0.22809 Frs\n",
        "Até 20.000            |± 0.23978 Frs\n",
        "Até 50.000            |± 0.49539 Frs\n",
        "Até 100.000           |± 1.09723 Frs\n",
        "Até 500.000           |± 5.99625 Frs\n",
        "Até 1.000.000         |± 11.11512 Frs\n",
        "Até 8.000.000         |± 90.84772 Frs\n",
        "\n",
        "![decrescente](https://i.imgur.com/5oOSwDQ.png)\n",
        "\n",
        "## Trocas e comparações\n",
        "\n",
        "Quantidade de entrada | Trocas          | Comparações\n",
        "----------------------|-----------------|---------------\n",
        "Até 10                |   42            | 62\n",
        "Até 100               |   744           | 1.430\n",
        "Até 1.000             |   9.286          | 19.620\n",
        "Até 10.000            |   212.318        | 475.668\n",
        "Até 20.000            |   652.154        | 1.470.482\n",
        "Até 50.000            |   1.593.374       | 3.615.538\n",
        "Até 100.000           |   3.607.506       | 8.233.927\n",
        "Até 500.000           |   12.726.648      | 29.337.647\n",
        "Até 1.000.000         |   32.018.936      | 74.158.535\n",
        "Até 8.000.000         |   188.465.011     | 440.479.145\n",
        "\n",
        "![trocasComp](https://i.imgur.com/FvrTrPy.png)\n",
        "\n",
        "\n",
        "## Dados de entrada em ordem aleatória\n",
        "\n",
        "## Tempo de execução\n",
        "\n",
        "Quantidade de entrada | Tempo de execução\n",
        "----------------------|-------------------\n",
        "Até 10                |± 0.00003 Frs\n",
        "Até 100               |± 0.00037 Frs\n",
        "Até 1.000             |± 0.00692 Frs\n",
        "Até 10.000            |± 0.09506 Frs\n",
        "Até 20.000            |± 0.20360 Frs\n",
        "Até 50.000            |± 0.44586 Frs\n",
        "Até 100.000           |± 0.98453 Frs\n",
        "Até 500.000           |± 1.07104 Frs\n",
        "Até 1.000.000         |± 10.92539 Frs\n",
        "Até 8.000.000         |± 108.50647 Frs\n",
        "\n",
        "![aleatorio](https://i.imgur.com/KqUsv2F.png)\n",
        "\n",
        "## Trocas e comparações\n",
        "\n",
        "Quantidade de entrada | Trocas          | Comparações   |\n",
        "----------------------|-----------------|---------------\n",
        "Até 10                |   56            | 98\n",
        "Até 100               |   815           | 1627\n",
        "Até 1.000             |   10.143         | 22.000\n",
        "Até 10.000            |   224.962        | 511.205\n",
        "Até 20.000            |   687.422        | 1.571.965\n",
        "Até 50.000            |   1.677.206       | 3.854.992\n",
        "Até 100.000           |   3.788.233       | 8.750.895\n",
        "Até 500.000           |   6.054.124       | 14.003.127\n",
        "Até 1.000.000         |   26.088.989      | 61.034.173\n",
        "Até 8.000.000         |   211.542.990     | 500.221.039\n",
        "\n",
        "![trocasComp](https://i.imgur.com/dYJytGC.png)\n",
        "\n",
        "## Comparaçao entre os 3 tipos de entrada\n",
        "\n",
        "## Execução\n",
        "\n",
        "![grafico](https://i.imgur.com/i1dNbjH.png)"
      ]
    }
  ],
  "metadata": {
    "colab": {
      "collapsed_sections": [],
      "provenance": []
    },
    "kernelspec": {
      "display_name": "Python 3",
      "name": "python3"
    },
    "language_info": {
      "name": "python"
    }
  },
  "nbformat": 4,
  "nbformat_minor": 0
}